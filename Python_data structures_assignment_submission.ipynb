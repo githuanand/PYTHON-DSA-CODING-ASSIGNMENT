{
 "cells": [
  {
   "cell_type": "markdown",
   "metadata": {},
   "source": [
    "# PW SKILLS QUESTIONS"
   ]
  },
  {
   "cell_type": "markdown",
   "metadata": {},
   "source": [
    "### Assignments 02 : Data-Structures in Python\n"
   ]
  },
  {
   "cell_type": "code",
   "execution_count": 2,
   "metadata": {},
   "outputs": [
    {
     "name": "stdout",
     "output_type": "stream",
     "text": [
      "hello\n",
      "Reversed string: olleh\n"
     ]
    }
   ],
   "source": [
    "# Assignment: Data Structures in Python\n",
    "\n",
    "# 1. Reverse a string\n",
    "def reverse_string(s):\n",
    "    return s[::-1]\n",
    "\n",
    "# Example\n",
    "s = \"hello\"\n",
    "print(s)\n",
    "print(\"Reversed string:\", reverse_string(s))\n"
   ]
  },
  {
   "cell_type": "code",
   "execution_count": 7,
   "metadata": {},
   "outputs": [
    {
     "name": "stdout",
     "output_type": "stream",
     "text": [
      "Number of vowels: 19\n"
     ]
    }
   ],
   "source": [
    "# 2. Count the number of vowels in a string\n",
    "def count_vowels(s):\n",
    "    vowels = 'aeiouAEIOU'\n",
    "    return sum(1 for char in s if char in vowels)\n",
    "\n",
    "# Example\n",
    "s = \"Anand Mohan Jha is Studying Data Structures and Algorithms in PW SKILLS\"\n",
    "print(\"Number of vowels:\", count_vowels(s))\n"
   ]
  },
  {
   "cell_type": "code",
   "execution_count": 8,
   "metadata": {},
   "outputs": [
    {
     "name": "stdout",
     "output_type": "stream",
     "text": [
      "Is palindrome: True\n"
     ]
    }
   ],
   "source": [
    "# 3. Check if a string is a palindrome\n",
    "def is_palindrome(s):\n",
    "    return s == s[::-1]\n",
    "\n",
    "# Example\n",
    "s = \"radar\"\n",
    "print(\"Is palindrome:\", is_palindrome(s))\n"
   ]
  },
  {
   "cell_type": "code",
   "execution_count": 9,
   "metadata": {},
   "outputs": [
    {
     "name": "stdout",
     "output_type": "stream",
     "text": [
      "Are anagrams: True\n"
     ]
    }
   ],
   "source": [
    "\n",
    "# 4. Check if two strings are anagrams\n",
    "def are_anagrams(s1, s2):\n",
    "    return sorted(s1) == sorted(s2)\n",
    "\n",
    "# Example\n",
    "s1 = \"listen\"\n",
    "s2 = \"silent\"\n",
    "print(\"Are anagrams:\", are_anagrams(s1, s2))\n",
    "\n"
   ]
  },
  {
   "cell_type": "code",
   "execution_count": 10,
   "metadata": {},
   "outputs": [
    {
     "name": "stdout",
     "output_type": "stream",
     "text": [
      "Occurrences of substring: [1, 3]\n"
     ]
    }
   ],
   "source": [
    "# 5. Find all occurrences of a substring within another string\n",
    "def find_all_occurrences(s, sub):\n",
    "    return [i for i in range(len(s)) if s.startswith(sub, i)]\n",
    "\n",
    "# Example\n",
    "s = \"banana\"\n",
    "sub = \"ana\"\n",
    "print(\"Occurrences of substring:\", find_all_occurrences(s, sub))"
   ]
  },
  {
   "cell_type": "code",
   "execution_count": 11,
   "metadata": {},
   "outputs": [
    {
     "name": "stdout",
     "output_type": "stream",
     "text": [
      "Compressed string: a2b1c5a3\n"
     ]
    }
   ],
   "source": [
    "# 6. Basic string compression using counts of repeated characters\n",
    "def string_compression(s):\n",
    "    compressed = []\n",
    "    count = 1\n",
    "    for i in range(1, len(s)):\n",
    "        if s[i] == s[i-1]:\n",
    "            count += 1\n",
    "        else:\n",
    "            compressed.append(s[i-1] + str(count))\n",
    "            count = 1\n",
    "    compressed.append(s[-1] + str(count))\n",
    "    return ''.join(compressed)\n",
    "\n",
    "# Example\n",
    "s = \"aabcccccaaa\"\n",
    "print(\"Compressed string:\", string_compression(s))\n",
    "\n"
   ]
  },
  {
   "cell_type": "code",
   "execution_count": 12,
   "metadata": {},
   "outputs": [
    {
     "name": "stdout",
     "output_type": "stream",
     "text": [
      "Has all unique characters: True\n"
     ]
    }
   ],
   "source": [
    "# 7. Check if a string has all unique characters\n",
    "def has_unique_characters(s):\n",
    "    return len(set(s)) == len(s)\n",
    "\n",
    "# Example\n",
    "s = \"abcdef\"\n",
    "print(\"Has all unique characters:\", has_unique_characters(s))\n"
   ]
  },
  {
   "cell_type": "code",
   "execution_count": 13,
   "metadata": {},
   "outputs": [
    {
     "name": "stdout",
     "output_type": "stream",
     "text": [
      "Uppercase: HELLO WORLD\n",
      "Lowercase: hello world\n"
     ]
    }
   ],
   "source": [
    "\n",
    "# 8. Convert string to uppercase or lowercase\n",
    "def convert_case(s, to_upper=True):\n",
    "    return s.upper() if to_upper else s.lower()\n",
    "\n",
    "# Example\n",
    "s = \"Hello World\"\n",
    "print(\"Uppercase:\", convert_case(s))\n",
    "print(\"Lowercase:\", convert_case(s, to_upper=False))\n"
   ]
  },
  {
   "cell_type": "code",
   "execution_count": 14,
   "metadata": {},
   "outputs": [
    {
     "name": "stdout",
     "output_type": "stream",
     "text": [
      "Number of words: 5\n"
     ]
    }
   ],
   "source": [
    "\n",
    "# 9. Count the number of words in a string\n",
    "def count_words(s):\n",
    "    return len(s.split())\n",
    "\n",
    "# Example\n",
    "s = \"This is a test string\"\n",
    "print(\"Number of words:\", count_words(s))\n"
   ]
  },
  {
   "cell_type": "code",
   "execution_count": 16,
   "metadata": {},
   "outputs": [
    {
     "name": "stdout",
     "output_type": "stream",
     "text": [
      "Concatenated string: HelloWorld\n"
     ]
    }
   ],
   "source": [
    "\n",
    "# 10. Concatenate two strings without using the + operator\n",
    "def concatenate_strings(s1, s2):\n",
    "    return \"\".join([s1, s2])\n",
    "\n",
    "# Example\n",
    "s1 = \"Hello\"\n",
    "s2 = \"World\"\n",
    "print(\"Concatenated string:\", concatenate_strings(s1, s2))"
   ]
  },
  {
   "cell_type": "code",
   "execution_count": 17,
   "metadata": {},
   "outputs": [
    {
     "name": "stdout",
     "output_type": "stream",
     "text": [
      "List after removal: [1, 3, 4]\n"
     ]
    }
   ],
   "source": [
    "# 11. Remove all occurrences of a specific element from a list\n",
    "def remove_all_occurrences(lst, element):\n",
    "    return [x for x in lst if x != element]\n",
    "\n",
    "# Example\n",
    "lst = [1, 2, 3, 2, 4]\n",
    "element = 2\n",
    "print(\"List after removal:\", remove_all_occurrences(lst, element))\n",
    "\n"
   ]
  },
  {
   "cell_type": "code",
   "execution_count": 18,
   "metadata": {},
   "outputs": [
    {
     "name": "stdout",
     "output_type": "stream",
     "text": [
      "Second largest number: 45\n"
     ]
    }
   ],
   "source": [
    "# 12. Find the second largest number in a list\n",
    "def second_largest(lst):\n",
    "    unique_sorted = sorted(set(lst), reverse=True)\n",
    "    return unique_sorted[1] if len(unique_sorted) > 1 else None\n",
    "\n",
    "# Example\n",
    "lst = [10, 20, 4, 45, 99]\n",
    "print(\"Second largest number:\", second_largest(lst))\n",
    "\n"
   ]
  },
  {
   "cell_type": "code",
   "execution_count": 19,
   "metadata": {},
   "outputs": [
    {
     "name": "stdout",
     "output_type": "stream",
     "text": [
      "Occurrences: {1: 1, 2: 2, 3: 3}\n"
     ]
    }
   ],
   "source": [
    "# 13. Count occurrences of each element in a list\n",
    "def count_occurrences(lst):\n",
    "    from collections import Counter\n",
    "    return dict(Counter(lst))\n",
    "\n",
    "# Example\n",
    "lst = [1, 2, 2, 3, 3, 3]\n",
    "print(\"Occurrences:\", count_occurrences(lst))\n",
    "\n"
   ]
  },
  {
   "cell_type": "code",
   "execution_count": 20,
   "metadata": {},
   "outputs": [
    {
     "name": "stdout",
     "output_type": "stream",
     "text": [
      "Reversed list: [5, 4, 3, 2, 1]\n"
     ]
    }
   ],
   "source": [
    "# 14. Reverse a list in-place without using built-in reverse functions\n",
    "def reverse_list(lst):\n",
    "    start, end = 0, len(lst) - 1\n",
    "    while start < end:\n",
    "        lst[start], lst[end] = lst[end], lst[start]\n",
    "        start += 1\n",
    "        end -= 1\n",
    "    return lst\n",
    "\n",
    "# Example\n",
    "lst = [1, 2, 3, 4, 5]\n",
    "print(\"Reversed list:\", reverse_list(lst))"
   ]
  },
  {
   "cell_type": "code",
   "execution_count": 21,
   "metadata": {},
   "outputs": [
    {
     "name": "stdout",
     "output_type": "stream",
     "text": [
      "List without duplicates: [1, 2, 3, 4, 5]\n"
     ]
    }
   ],
   "source": [
    "# 15. Remove duplicates from a list while preserving order\n",
    "def remove_duplicates(lst):\n",
    "    seen = set()\n",
    "    return [x for x in lst if not (x in seen or seen.add(x))]\n",
    "\n",
    "# Example\n",
    "lst = [1, 2, 2, 3, 4, 4, 5]\n",
    "print(\"List without duplicates:\", remove_duplicates(lst))\n",
    "\n"
   ]
  },
  {
   "cell_type": "code",
   "execution_count": 22,
   "metadata": {},
   "outputs": [
    {
     "name": "stdout",
     "output_type": "stream",
     "text": [
      "Is sorted: True\n",
      "Is sorted: True\n"
     ]
    }
   ],
   "source": [
    "# 16. Check if a given list is sorted (either ascending or descending)\n",
    "def is_sorted(lst):\n",
    "    return lst == sorted(lst) or lst == sorted(lst, reverse=True)\n",
    "\n",
    "# Example\n",
    "lst = [1, 2, 3, 4, 5]\n",
    "print(\"Is sorted:\", is_sorted(lst))\n",
    "lst = [5, 4, 3, 2, 1]\n",
    "print(\"Is sorted:\", is_sorted(lst))\n",
    "\n"
   ]
  },
  {
   "cell_type": "code",
   "execution_count": 23,
   "metadata": {},
   "outputs": [
    {
     "name": "stdout",
     "output_type": "stream",
     "text": [
      "Merged sorted list: [1, 2, 3, 4, 5, 6]\n"
     ]
    }
   ],
   "source": [
    "# 17. Merge two sorted lists into a single sorted list\n",
    "def merge_sorted_lists(lst1, lst2):\n",
    "    return sorted(lst1 + lst2)\n",
    "\n",
    "# Example\n",
    "lst1 = [1, 3, 5]\n",
    "lst2 = [2, 4, 6]\n",
    "print(\"Merged sorted list:\", merge_sorted_lists(lst1, lst2))\n",
    "\n"
   ]
  },
  {
   "cell_type": "code",
   "execution_count": 24,
   "metadata": {},
   "outputs": [
    {
     "name": "stdout",
     "output_type": "stream",
     "text": [
      "Intersection: [2, 3]\n"
     ]
    }
   ],
   "source": [
    "# 18. Find the intersection of two given lists\n",
    "def intersection(lst1, lst2):\n",
    "    return list(set(lst1) & set(lst2))\n",
    "\n",
    "# Example\n",
    "lst1 = [1, 2, 3]\n",
    "lst2 = [2, 3, 4]\n",
    "print(\"Intersection:\", intersection(lst1, lst2))\n",
    "\n"
   ]
  },
  {
   "cell_type": "code",
   "execution_count": 25,
   "metadata": {},
   "outputs": [
    {
     "name": "stdout",
     "output_type": "stream",
     "text": [
      "Union: [1, 2, 3, 4]\n"
     ]
    }
   ],
   "source": [
    "# 19. Find the union of two lists without duplicates\n",
    "def union(lst1, lst2):\n",
    "    return list(set(lst1) | set(lst2))\n",
    "\n",
    "# Example\n",
    "lst1 = [1, 2, 3]\n",
    "lst2 = [2, 3, 4]\n",
    "print(\"Union:\", union(lst1, lst2))"
   ]
  },
  {
   "cell_type": "code",
   "execution_count": 26,
   "metadata": {},
   "outputs": [
    {
     "name": "stdout",
     "output_type": "stream",
     "text": [
      "Shuffled list: [2, 3, 5, 1, 4]\n"
     ]
    }
   ],
   "source": [
    "# 20. Shuffle a list randomly without using built-in shuffle functions\n",
    "import random\n",
    "def shuffle_list(lst):\n",
    "    shuffled = lst[:]\n",
    "    for i in range(len(shuffled)):\n",
    "        j = random.randint(0, len(shuffled) - 1)\n",
    "        shuffled[i], shuffled[j] = shuffled[j], shuffled[i]\n",
    "    return shuffled\n",
    "\n",
    "# Example\n",
    "lst = [1, 2, 3, 4, 5]\n",
    "print(\"Shuffled list:\", shuffle_list(lst))\n",
    "\n"
   ]
  },
  {
   "cell_type": "code",
   "execution_count": 27,
   "metadata": {},
   "outputs": [
    {
     "name": "stdout",
     "output_type": "stream",
     "text": [
      "Common elements: (2, 3)\n"
     ]
    }
   ],
   "source": [
    "# 21. Common elements in two tuples\n",
    "def common_elements(t1, t2):\n",
    "    return tuple(set(t1) & set(t2))\n",
    "\n",
    "# Example\n",
    "t1 = (1, 2, 3)\n",
    "t2 = (2, 3, 4)\n",
    "print(\"Common elements:\", common_elements(t1, t2))"
   ]
  },
  {
   "cell_type": "code",
   "execution_count": 33,
   "metadata": {},
   "outputs": [
    {
     "name": "stdout",
     "output_type": "stream",
     "text": [
      "Intersection: {2, 4, 6, 8, 10}\n"
     ]
    }
   ],
   "source": [
    "# 22. Intersection of two sets entered by the user\n",
    "def intersection_of_sets():\n",
    "    set1 = set(map(int, input(\"Enter elements of first set separated by commas: \").split(',')))\n",
    "    set2 = set(map(int, input(\"Enter elements of second set separated by commas: \").split(',')))\n",
    "    return set1 & set2\n",
    "\n",
    "# Example\n",
    "# Uncomment the below line to test interactively\n",
    "print(\"Intersection:\", intersection_of_sets())\n",
    "# 1,2,3,4,5,6,7,8,9,10,11:- first set of elements\n",
    "# 2,4,6,8,10:- second set of elements"
   ]
  },
  {
   "cell_type": "code",
   "execution_count": 34,
   "metadata": {},
   "outputs": [
    {
     "name": "stdout",
     "output_type": "stream",
     "text": [
      "Concatenated tuple: (1, 2, 3, 4, 5, 6)\n"
     ]
    }
   ],
   "source": [
    "\n",
    "\n",
    "# 23. Concatenate two tuples\n",
    "def concatenate_tuples(t1, t2):\n",
    "    return t1 + t2\n",
    "\n",
    "# Example\n",
    "t1 = (1, 2, 3)\n",
    "t2 = (4, 5, 6)\n",
    "print(\"Concatenated tuple:\", concatenate_tuples(t1, t2))\n",
    "\n"
   ]
  },
  {
   "cell_type": "code",
   "execution_count": 36,
   "metadata": {},
   "outputs": [
    {
     "name": "stdout",
     "output_type": "stream",
     "text": [
      "Difference of sets: {1}\n"
     ]
    }
   ],
   "source": [
    "# 24. Elements in the first set but not in the second set\n",
    "def difference_of_sets(set1, set2):\n",
    "    return set1 - set2\n",
    "\n",
    "# Example\n",
    "set1 = {1, 2, 3}\n",
    "set2 = {2, 3, 4}\n",
    "print(\"Difference of sets:\", difference_of_sets(set1, set2))\n",
    "\n",
    "\n"
   ]
  },
  {
   "cell_type": "code",
   "execution_count": 37,
   "metadata": {},
   "outputs": [
    {
     "name": "stdout",
     "output_type": "stream",
     "text": [
      "Sliced tuple: (2, 3, 4)\n"
     ]
    }
   ],
   "source": [
    "# 25. Slice a tuple by range\n",
    "def slice_tuple(t, start, end):\n",
    "    return t[start:end]\n",
    "\n",
    "# Example\n",
    "t = (1, 2, 3, 4, 5)\n",
    "start, end = 1, 4\n",
    "print(\"Sliced tuple:\", slice_tuple(t, start, end))"
   ]
  },
  {
   "cell_type": "code",
   "execution_count": null,
   "metadata": {},
   "outputs": [
    {
     "name": "stdout",
     "output_type": "stream",
     "text": [
      "Union of sets: {'4', '6', '2', '5', '3', '1'}\n"
     ]
    }
   ],
   "source": [
    "\n",
    "# 26. Union of two sets of characters entered by the user\n",
    "def union_of_sets():\n",
    "    set1 = set(input(\"Enter characters of first set separated by commas: \").split(','))\n",
    "    set2 = set(input(\"Enter characters of second set separated by commas: \").split(','))\n",
    "    return set1 | set2\n",
    "\n",
    "# Example\n",
    "print(\"Union of sets:\", union_of_sets())\n",
    "# 1st set:- 2,3,4,5,6\n",
    "# 2nd set:- 1,3,5,6\n"
   ]
  },
  {
   "cell_type": "code",
   "execution_count": 39,
   "metadata": {},
   "outputs": [
    {
     "name": "stdout",
     "output_type": "stream",
     "text": [
      "Max and Min values: (50, 10)\n"
     ]
    }
   ],
   "source": [
    "# 27. Maximum and minimum values from a tuple\n",
    "def max_min_tuple(t):\n",
    "    return max(t), min(t)\n",
    "\n",
    "# Example\n",
    "t = (10, 20, 30, 40, 50)\n",
    "print(\"Max and Min values:\", max_min_tuple(t))\n",
    "\n"
   ]
  },
  {
   "cell_type": "code",
   "execution_count": 40,
   "metadata": {},
   "outputs": [
    {
     "name": "stdout",
     "output_type": "stream",
     "text": [
      "Set operations: {'union': {1, 2, 3, 4}, 'intersection': {2, 3}, 'difference': {1}}\n"
     ]
    }
   ],
   "source": [
    "# 28. Set operations: union, intersection, and difference\n",
    "def set_operations(set1, set2):\n",
    "    return {\n",
    "        \"union\": set1 | set2,\n",
    "        \"intersection\": set1 & set2,\n",
    "        \"difference\": set1 - set2\n",
    "    }\n",
    "\n",
    "# Example\n",
    "set1 = {1, 2, 3}\n",
    "set2 = {2, 3, 4}\n",
    "print(\"Set operations:\", set_operations(set1, set2))\n",
    "\n"
   ]
  },
  {
   "cell_type": "code",
   "execution_count": 41,
   "metadata": {},
   "outputs": [
    {
     "name": "stdout",
     "output_type": "stream",
     "text": [
      "Occurrences in tuple: 3\n"
     ]
    }
   ],
   "source": [
    "# 29. Count occurrences of an element in a tuple\n",
    "def count_in_tuple(t, element):\n",
    "    return t.count(element)\n",
    "\n",
    "# Example\n",
    "t = (1, 2, 3, 2, 4, 2)\n",
    "element = 2\n",
    "print(\"Occurrences in tuple:\", count_in_tuple(t, element))\n",
    "\n"
   ]
  },
  {
   "cell_type": "code",
   "execution_count": null,
   "metadata": {},
   "outputs": [
    {
     "name": "stdout",
     "output_type": "stream",
     "text": [
      "Symmetric difference of sets: {'7', '2', '9', '8', '1'}\n"
     ]
    }
   ],
   "source": [
    "\n",
    "# 30. Symmetric difference of two sets of strings entered by the user\n",
    "def symmetric_difference_of_sets():\n",
    "    set1 = set(input(\"Enter strings of first set separated by commas: \").split(','))\n",
    "    set2 = set(input(\"Enter strings of second set separated by commas: \").split(','))\n",
    "    return set1 ^ set2\n",
    "\n",
    "# Example\n",
    "print(\"Symmetric difference of sets:\", symmetric_difference_of_sets())\n",
    "# 9,3,4,5,6\n",
    "# 1,2,3,4,5,6,7,8\n"
   ]
  },
  {
   "cell_type": "code",
   "execution_count": 43,
   "metadata": {},
   "outputs": [
    {
     "name": "stdout",
     "output_type": "stream",
     "text": [
      "Word frequency: {'apple': 3, 'banana': 2, 'orange': 1}\n"
     ]
    }
   ],
   "source": [
    "# 31. Word frequency dictionary from a list of words\n",
    "def word_frequency(words):\n",
    "    from collections import Counter\n",
    "    return dict(Counter(words))\n",
    "\n",
    "# Example\n",
    "words = [\"apple\", \"banana\", \"apple\", \"orange\", \"banana\", \"apple\"]\n",
    "print(\"Word frequency:\", word_frequency(words))\n",
    "\n"
   ]
  },
  {
   "cell_type": "code",
   "execution_count": 44,
   "metadata": {},
   "outputs": [
    {
     "name": "stdout",
     "output_type": "stream",
     "text": [
      "Merged dictionary: {'a': 1, 'b': 5, 'c': 4}\n"
     ]
    }
   ],
   "source": [
    "# 32. Merge two dictionaries with value addition for common keys\n",
    "def merge_dictionaries(dict1, dict2):\n",
    "    merged = dict1.copy()\n",
    "    for key, value in dict2.items():\n",
    "        merged[key] = merged.get(key, 0) + value\n",
    "    return merged\n",
    "\n",
    "# Example\n",
    "dict1 = {\"a\": 1, \"b\": 2}\n",
    "dict2 = {\"b\": 3, \"c\": 4}\n",
    "print(\"Merged dictionary:\", merge_dictionaries(dict1, dict2))\n",
    "\n"
   ]
  },
  {
   "cell_type": "code",
   "execution_count": 45,
   "metadata": {},
   "outputs": [
    {
     "name": "stdout",
     "output_type": "stream",
     "text": [
      "Value in nested dictionary: 42\n"
     ]
    }
   ],
   "source": [
    "# 33. Access value in nested dictionary using a list of keys\n",
    "def access_nested_dict(d, keys):\n",
    "    for key in keys:\n",
    "        d = d.get(key, None)\n",
    "        if d is None:\n",
    "            return None\n",
    "    return d\n",
    "\n",
    "# Example\n",
    "d = {\"a\": {\"b\": {\"c\": 42}}}\n",
    "keys = [\"a\", \"b\", \"c\"]\n",
    "print(\"Value in nested dictionary:\", access_nested_dict(d, keys))\n",
    "\n"
   ]
  },
  {
   "cell_type": "code",
   "execution_count": 46,
   "metadata": {},
   "outputs": [
    {
     "name": "stdout",
     "output_type": "stream",
     "text": [
      "Sorted dictionary (ascending): {'b': 1, 'c': 2, 'a': 3}\n",
      "Sorted dictionary (descending): {'a': 3, 'c': 2, 'b': 1}\n"
     ]
    }
   ],
   "source": [
    "# 34. Sort dictionary by values (ascending or descending)\n",
    "def sort_dict_by_values(d, descending=False):\n",
    "    return dict(sorted(d.items(), key=lambda item: item[1], reverse=descending))\n",
    "\n",
    "# Example\n",
    "d = {\"a\": 3, \"b\": 1, \"c\": 2}\n",
    "print(\"Sorted dictionary (ascending):\", sort_dict_by_values(d))\n",
    "print(\"Sorted dictionary (descending):\", sort_dict_by_values(d, descending=True))\n",
    "\n"
   ]
  },
  {
   "cell_type": "code",
   "execution_count": 47,
   "metadata": {},
   "outputs": [
    {
     "name": "stdout",
     "output_type": "stream",
     "text": [
      "Inverted dictionary: {1: ['a', 'c'], 2: ['b']}\n"
     ]
    }
   ],
   "source": [
    "# 35. Invert a dictionary, handling duplicate values\n",
    "def invert_dictionary(d):\n",
    "    inverted = {}\n",
    "    for key, value in d.items():\n",
    "        inverted.setdefault(value, []).append(key)\n",
    "    return inverted\n",
    "\n",
    "# Example\n",
    "d = {\"a\": 1, \"b\": 2, \"c\": 1}\n",
    "print(\"Inverted dictionary:\", invert_dictionary(d))"
   ]
  }
 ],
 "metadata": {
  "kernelspec": {
   "display_name": "Python 3",
   "language": "python",
   "name": "python3"
  },
  "language_info": {
   "codemirror_mode": {
    "name": "ipython",
    "version": 3
   },
   "file_extension": ".py",
   "mimetype": "text/x-python",
   "name": "python",
   "nbconvert_exporter": "python",
   "pygments_lexer": "ipython3",
   "version": "3.12.5"
  }
 },
 "nbformat": 4,
 "nbformat_minor": 2
}
